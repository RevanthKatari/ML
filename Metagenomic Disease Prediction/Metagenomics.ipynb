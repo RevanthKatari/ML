{
  "nbformat": 4,
  "nbformat_minor": 0,
  "metadata": {
    "colab": {
      "provenance": []
    },
    "kernelspec": {
      "name": "python3",
      "display_name": "Python 3"
    },
    "language_info": {
      "name": "python"
    }
  },
  "cells": [
    {
      "cell_type": "markdown",
      "source": [
        "**DataSet Import**"
      ],
      "metadata": {
        "id": "Z4UOiJKzAQgw"
      }
    },
    {
      "cell_type": "code",
      "execution_count": 1,
      "metadata": {
        "colab": {
          "base_uri": "https://localhost:8080/"
        },
        "id": "ZxIV839U7X2o",
        "outputId": "0ed112a2-e261-4f6e-988c-bd44c91ae479"
      },
      "outputs": [
        {
          "output_type": "stream",
          "name": "stdout",
          "text": [
            "Downloading metagenomics, 83455861 bytes compressed\n",
            "[==================================================] 83455861 bytes downloaded\n",
            "Downloaded and uncompressed: metagenomics\n",
            "Data source import complete.\n"
          ]
        }
      ],
      "source": [
        "import os\n",
        "import sys\n",
        "from tempfile import NamedTemporaryFile\n",
        "from urllib.request import urlopen\n",
        "from urllib.parse import unquote, urlparse\n",
        "from urllib.error import HTTPError\n",
        "from zipfile import ZipFile\n",
        "import tarfile\n",
        "import shutil\n",
        "\n",
        "CHUNK_SIZE = 40960\n",
        "DATA_SOURCE_MAPPING = 'metagenomics:https%3A%2F%2Fstorage.googleapis.com%2Fkaggle-data-sets%2F1035997%2F1745083%2Fbundle%2Farchive.zip%3FX-Goog-Algorithm%3DGOOG4-RSA-SHA256%26X-Goog-Credential%3Dgcp-kaggle-com%2540kaggle-161607.iam.gserviceaccount.com%252F20240412%252Fauto%252Fstorage%252Fgoog4_request%26X-Goog-Date%3D20240412T152828Z%26X-Goog-Expires%3D259200%26X-Goog-SignedHeaders%3Dhost%26X-Goog-Signature%3De68d8197f0e3e9eb97d39ee24e0aa720d8f592c1d01d8e269c8971c78af162d533450f36f15985d82b28875ead0e3f00aac1c67d1738363f9e777eb3000f5604af24fc5f36fb3cf8d12f17e61fd94bb90f74efa3fa1529fa0ae9360f0b7ef0c4a6411e0fa5c2aa67d2f5c8c59f91cd58441214b0f876b0b13c7ea8ef1c44008496237b8a8411351262861b4e49226e939de289446b0e1809d3e57a80a270b478324c1382cf11fc4b471a645db8aeb782680729b6eb99a1c5f3d526903b610b38defcb24ffda403e3eaea02d9262f076dd62c077f86b008d50ca4640540960bc34f993f1e69446601bd3f67a81ae8242c02af4abd605df5b856747e1d94c2cac1'\n",
        "\n",
        "KAGGLE_INPUT_PATH='/kaggle/input'\n",
        "KAGGLE_WORKING_PATH='/kaggle/working'\n",
        "KAGGLE_SYMLINK='kaggle'\n",
        "\n",
        "!umount /kaggle/input/ 2> /dev/null\n",
        "shutil.rmtree('/kaggle/input', ignore_errors=True)\n",
        "os.makedirs(KAGGLE_INPUT_PATH, 0o777, exist_ok=True)\n",
        "os.makedirs(KAGGLE_WORKING_PATH, 0o777, exist_ok=True)\n",
        "\n",
        "try:\n",
        "  os.symlink(KAGGLE_INPUT_PATH, os.path.join(\"..\", 'input'), target_is_directory=True)\n",
        "except FileExistsError:\n",
        "  pass\n",
        "try:\n",
        "  os.symlink(KAGGLE_WORKING_PATH, os.path.join(\"..\", 'working'), target_is_directory=True)\n",
        "except FileExistsError:\n",
        "  pass\n",
        "\n",
        "for data_source_mapping in DATA_SOURCE_MAPPING.split(','):\n",
        "    directory, download_url_encoded = data_source_mapping.split(':')\n",
        "    download_url = unquote(download_url_encoded)\n",
        "    filename = urlparse(download_url).path\n",
        "    destination_path = os.path.join(KAGGLE_INPUT_PATH, directory)\n",
        "    try:\n",
        "        with urlopen(download_url) as fileres, NamedTemporaryFile() as tfile:\n",
        "            total_length = fileres.headers['content-length']\n",
        "            print(f'Downloading {directory}, {total_length} bytes compressed')\n",
        "            dl = 0\n",
        "            data = fileres.read(CHUNK_SIZE)\n",
        "            while len(data) > 0:\n",
        "                dl += len(data)\n",
        "                tfile.write(data)\n",
        "                done = int(50 * dl / int(total_length))\n",
        "                sys.stdout.write(f\"\\r[{'=' * done}{' ' * (50-done)}] {dl} bytes downloaded\")\n",
        "                sys.stdout.flush()\n",
        "                data = fileres.read(CHUNK_SIZE)\n",
        "            if filename.endswith('.zip'):\n",
        "              with ZipFile(tfile) as zfile:\n",
        "                zfile.extractall(destination_path)\n",
        "            else:\n",
        "              with tarfile.open(tfile.name) as tarfile:\n",
        "                tarfile.extractall(destination_path)\n",
        "            print(f'\\nDownloaded and uncompressed: {directory}')\n",
        "    except HTTPError as e:\n",
        "        print(f'Failed to load (likely expired) {download_url} to path {destination_path}')\n",
        "        continue\n",
        "    except OSError as e:\n",
        "        print(f'Failed to load {download_url} to path {destination_path}')\n",
        "        continue\n",
        "\n",
        "print('Data source import complete.')\n"
      ]
    },
    {
      "cell_type": "markdown",
      "source": [
        "**Libraries**"
      ],
      "metadata": {
        "id": "_0crL6wTAVqm"
      }
    },
    {
      "cell_type": "code",
      "source": [
        "!pip install scikit-plot\n"
      ],
      "metadata": {
        "colab": {
          "base_uri": "https://localhost:8080/"
        },
        "id": "PtTuhTgt7rC3",
        "outputId": "20f5582c-d680-45f3-8355-f96fd56f9fa0"
      },
      "execution_count": 4,
      "outputs": [
        {
          "output_type": "stream",
          "name": "stdout",
          "text": [
            "Collecting scikit-plot\n",
            "  Downloading scikit_plot-0.3.7-py3-none-any.whl (33 kB)\n",
            "Requirement already satisfied: matplotlib>=1.4.0 in /usr/local/lib/python3.10/dist-packages (from scikit-plot) (3.7.1)\n",
            "Requirement already satisfied: scikit-learn>=0.18 in /usr/local/lib/python3.10/dist-packages (from scikit-plot) (1.2.2)\n",
            "Requirement already satisfied: scipy>=0.9 in /usr/local/lib/python3.10/dist-packages (from scikit-plot) (1.11.4)\n",
            "Requirement already satisfied: joblib>=0.10 in /usr/local/lib/python3.10/dist-packages (from scikit-plot) (1.4.0)\n",
            "Requirement already satisfied: contourpy>=1.0.1 in /usr/local/lib/python3.10/dist-packages (from matplotlib>=1.4.0->scikit-plot) (1.2.1)\n",
            "Requirement already satisfied: cycler>=0.10 in /usr/local/lib/python3.10/dist-packages (from matplotlib>=1.4.0->scikit-plot) (0.12.1)\n",
            "Requirement already satisfied: fonttools>=4.22.0 in /usr/local/lib/python3.10/dist-packages (from matplotlib>=1.4.0->scikit-plot) (4.51.0)\n",
            "Requirement already satisfied: kiwisolver>=1.0.1 in /usr/local/lib/python3.10/dist-packages (from matplotlib>=1.4.0->scikit-plot) (1.4.5)\n",
            "Requirement already satisfied: numpy>=1.20 in /usr/local/lib/python3.10/dist-packages (from matplotlib>=1.4.0->scikit-plot) (1.25.2)\n",
            "Requirement already satisfied: packaging>=20.0 in /usr/local/lib/python3.10/dist-packages (from matplotlib>=1.4.0->scikit-plot) (24.0)\n",
            "Requirement already satisfied: pillow>=6.2.0 in /usr/local/lib/python3.10/dist-packages (from matplotlib>=1.4.0->scikit-plot) (9.4.0)\n",
            "Requirement already satisfied: pyparsing>=2.3.1 in /usr/local/lib/python3.10/dist-packages (from matplotlib>=1.4.0->scikit-plot) (3.1.2)\n",
            "Requirement already satisfied: python-dateutil>=2.7 in /usr/local/lib/python3.10/dist-packages (from matplotlib>=1.4.0->scikit-plot) (2.8.2)\n",
            "Requirement already satisfied: threadpoolctl>=2.0.0 in /usr/local/lib/python3.10/dist-packages (from scikit-learn>=0.18->scikit-plot) (3.4.0)\n",
            "Requirement already satisfied: six>=1.5 in /usr/local/lib/python3.10/dist-packages (from python-dateutil>=2.7->matplotlib>=1.4.0->scikit-plot) (1.16.0)\n",
            "Installing collected packages: scikit-plot\n",
            "Successfully installed scikit-plot-0.3.7\n"
          ]
        }
      ]
    },
    {
      "cell_type": "code",
      "source": [
        "import numpy as np # linear algebra\n",
        "import pandas as pd # data processing, CSV file I/O (e.g. pd.read_csv)\n",
        "from pandas.api.types import is_numeric_dtype\n",
        "\n",
        "import os\n",
        "\n",
        "from xgboost import XGBClassifier\n",
        "import xgboost as xgb\n",
        "\n",
        "import sklearn\n",
        "from sklearn import metrics\n",
        "from sklearn import preprocessing\n",
        "from sklearn.model_selection import StratifiedKFold\n",
        "from sklearn.model_selection import train_test_split\n",
        "from sklearn.metrics import f1_score, roc_auc_score, confusion_matrix, precision_recall_curve, auc, roc_curve, recall_score\n",
        "\n",
        "import seaborn as sns\n",
        "import scikitplot as skplt\n",
        "import matplotlib.pyplot as plt"
      ],
      "metadata": {
        "id": "sS5pL2R-7cVv"
      },
      "execution_count": 5,
      "outputs": []
    },
    {
      "cell_type": "markdown",
      "source": [
        "**Metaparameters**"
      ],
      "metadata": {
        "id": "sRlwkXGBAZYa"
      }
    },
    {
      "cell_type": "code",
      "source": [
        "VERBOSE = 0\n",
        "FOLDS = 10\n",
        "test_train_split_SEED = 1971"
      ],
      "metadata": {
        "id": "LR2n12Ct7cTK"
      },
      "execution_count": 6,
      "outputs": []
    },
    {
      "cell_type": "code",
      "source": [
        "def  file_to_dataframe(file):\n",
        "    df = pd.read_csv(file,sep=\"\\t\",dtype=object,header=None, na_values='nd').T\n",
        "\n",
        "    header = df.iloc[0]\n",
        "    df = df[1:] #take the data less the header row\n",
        "    df.columns = header\n",
        "\n",
        "    return(df)\n",
        "pd_abundance = file_to_dataframe('../input/metagenomics/abundance_stoolsubset.txt')"
      ],
      "metadata": {
        "id": "CyIHhE5Q7cQk"
      },
      "execution_count": 8,
      "outputs": []
    },
    {
      "cell_type": "code",
      "source": [
        "disease = pd_abundance.loc[:,'disease']\n",
        "d_name = pd_abundance.loc[:,'dataset_name']\n",
        "print(disease.value_counts())\n",
        "\n",
        "# list of diseases we want to analyze and predict\n",
        "diseases = ['obesity', 'cirrhosis', 't2d', 'cancer']"
      ],
      "metadata": {
        "colab": {
          "base_uri": "https://localhost:8080/"
        },
        "id": "zKwGpK-o7cOI",
        "outputId": "6275767e-79e1-4ece-fd23-50e39656d026"
      },
      "execution_count": 9,
      "outputs": [
        {
          "output_type": "stream",
          "name": "stdout",
          "text": [
            "disease\n",
            "n                             944\n",
            "t2d                           223\n",
            "obesity                       164\n",
            "ibd_ulcerative_colitis        148\n",
            "cirrhosis                     118\n",
            "leaness                        89\n",
            "stec2-positive                 52\n",
            "impaired_glucose_tolerance     49\n",
            "cancer                         48\n",
            "n_relative                     47\n",
            "small_adenoma                  26\n",
            "ibd_crohn_disease              25\n",
            " -                             20\n",
            "large_adenoma                  13\n",
            "overweight                     10\n",
            "-                               7\n",
            "obese                           5\n",
            "underweight                     1\n",
            "Name: count, dtype: int64\n"
          ]
        }
      ]
    },
    {
      "cell_type": "markdown",
      "source": [
        "**Modelling**"
      ],
      "metadata": {
        "id": "zWESIFlFAjgg"
      }
    },
    {
      "cell_type": "code",
      "source": [
        "cols = pd_abundance.columns.tolist()\n",
        "species = [x for x in cols if x.startswith('k_')]\n",
        "metadata = [x for x in cols if not x.startswith('k_')]\n",
        "\n",
        "\n",
        "pd_abundance_conv = pd_abundance.copy()\n",
        "pd_abundance_conv = pd_abundance_conv[species].astype('float64')\n",
        "pd_abundance_conv = pd.concat([pd_abundance[metadata], pd_abundance_conv], axis = 1)\n",
        "\n",
        "# controls/healthy samples from Human Microbiome Project coded 'hmp' and 'hmpii'.\n",
        "# 't2d' stands for Type 2 Diabetes. We will combine a few studies into single dataset.\n",
        "data_sets = {'control':['hmp', 'hmpii'],'t2d':['WT2D','t2dmeta_long','t2dmeta_short'], 'cirrhosis' : ['Quin_gut_liver_cirrhosis'],\n",
        "             'cancer' : ['Zeller_fecal_colorectal_cancer'], 'obesity' : ['Chatelier_gut_obesity']}\n",
        "# combine controls from different studies into one\n",
        "pd_abundance_conv['disease'] = pd_abundance_conv['disease'].apply(lambda x: 'control' if ((x == 'n') or (x == 'nd') or (x == 'leaness')) else x)\n",
        "\n",
        "# change some metadata variables to numeric\n",
        "pd_abundance_conv['age'] = pd.to_numeric(pd_abundance_conv.age,  errors='coerce')\n",
        "pd_abundance_conv['gender'] = pd_abundance_conv['gender'].astype('category').cat.codes\n",
        "pd_abundance_conv['country'] = pd_abundance_conv['country'].astype('category').cat.codes\n",
        "\n",
        "for col in metadata:\n",
        "    pd_abundance_conv[col] = pd.to_numeric(pd_abundance_conv[col],  errors='ignore')\n",
        "\n",
        "numeric_metadata = [c for c in metadata if is_numeric_dtype(pd_abundance_conv[c]) ]\n",
        "\n",
        "# also add other features\n",
        "\n",
        "\n",
        "# separate controls and diseases into 2 dataframes\n",
        "pd_control = pd_abundance_conv.loc[pd_abundance_conv['disease'] == 'control']\n",
        "pd_disease = pd_abundance_conv.loc[pd_abundance_conv['disease'] != 'control']\n",
        "\n",
        "# we won't consider diseases from this list\n",
        "not_disease = [d for d in pd_disease.disease.unique().tolist() if d not in diseases]\n",
        "for d in not_disease:\n",
        "    pd_disease = pd_disease.drop(pd_disease.loc[pd_disease['disease'] == d].index, axis = 0)\n",
        "\n",
        "SEED = 42\n",
        "d = 't2d'\n",
        "import warnings\n",
        "warnings.filterwarnings(\"ignore\")"
      ],
      "metadata": {
        "id": "Oe78gZcw7cLa"
      },
      "execution_count": 10,
      "outputs": []
    },
    {
      "cell_type": "code",
      "source": [
        "def disease_prediction(d, species):\n",
        "    print('-' * 80)\n",
        "    print('Disease : %s'%d)\n",
        "\n",
        "    skf = StratifiedKFold(n_splits = FOLDS, shuffle = True, random_state = SEED)\n",
        "    oof_preds = []\n",
        "    oof_aucs = []\n",
        "    oof_scores= []\n",
        "    ds_names = data_sets[d]\n",
        "    if len(ds_names) == 1:\n",
        "        pd_cont = pd_control.loc[pd_control['dataset_name'] == ds_names[0]]\n",
        "        pd_dis = pd_disease.loc[pd_disease['dataset_name'] == ds_names[0]]\n",
        "    else:\n",
        "        pd_cont = pd_control.loc[pd_control['dataset_name'] == ds_names[0]]\n",
        "        pd_dis = pd_disease.loc[(pd_disease['disease'] == d) & (pd_disease['dataset_name'] == ds_names[0])]\n",
        "        for ds in ds_names[1:]:\n",
        "            pd_cont = pd.concat([pd_cont, pd_control.loc[pd_control['dataset_name'] == ds]], axis = 0)\n",
        "            pd_dis = pd.concat([pd_dis, pd_disease.loc[(pd_disease['disease'] == d) & (pd_disease['dataset_name'] == ds)]], axis = 0)\n",
        "\n",
        "    #     create dataset with all other diseases, target set to 0\n",
        "    pd_others = pd_disease.loc[(pd_disease['disease'] != d)]\n",
        "    target_others = pd_others['disease'].apply(lambda x: 1 if x == d else 0)\n",
        "\n",
        "    #     combine controls and this particular disease back into train dataset\n",
        "    pd_train = pd.concat([pd_cont, pd_dis], axis = 0)\n",
        "\n",
        "    #     adding control data from healthy subject, data by HMP\n",
        "    pd_train = pd.concat([pd_train, pd_control.loc[pd_control['dataset_name'] == 'hmp']], axis = 0)\n",
        "    pd_train = pd.concat([pd_train, pd_control.loc[pd_control['dataset_name'] == 'hmpii']], axis = 0)\n",
        "\n",
        "    target = pd_train['disease']\n",
        "    # convert text target into binary\n",
        "    binary_target = target.apply(lambda x: 1 if x == d else 0)\n",
        "    # binary_target.value_counts()\n",
        "    pd_others = pd_others[species]\n",
        "    pd_train  = pd_train[species]\n",
        "    # this split provides us with preserved test set\n",
        "    disease_train, disease_test, disease_y_train, disease_y_test = train_test_split(pd_train, binary_target, test_size = 0.10, #stratify = binary_target,\n",
        "                                                                                    random_state = test_train_split_SEED)\n",
        "\n",
        "    #     combining preserved test set with othere diseases samples\n",
        "    full_test = pd.concat([disease_test, pd_others])\n",
        "    full_y_test = pd.concat([disease_y_test, target_others])\n",
        "\n",
        "    disease_y_test.value_counts()\n",
        "    disease_y_train.value_counts()\n",
        "    preds = np.zeros(disease_y_test.shape[0])\n",
        "    full_preds = np.zeros(full_y_test.shape[0])\n",
        "\n",
        "    for fold, (idxT,idxV) in enumerate(skf.split(disease_train, disease_y_train)):\n",
        "\n",
        "        X_train = disease_train.iloc[idxT]\n",
        "        X_val = disease_train.iloc[idxV]\n",
        "        y_train = disease_y_train.iloc[idxT]\n",
        "        y_val = disease_y_train.iloc[idxV]\n",
        "\n",
        "        XGB_model = XGBClassifier(n_estimators=5000, max_depth=None,\n",
        "                            learning_rate=0.05,\n",
        "                            objective='binary:logistic',\n",
        "                            metric='auc',\n",
        "                            verbosity  = VERBOSE,\n",
        "                            n_jobs=-1, random_state  = SEED)\n",
        "\n",
        "\n",
        "        XGB_model.fit(X_train, y_train,\n",
        "                        eval_set = [(X_val, y_val)],\n",
        "                        eval_metric=['logloss'],\n",
        "                        # eval_metric=['auc','logloss'],\n",
        "                        early_stopping_rounds = 100, verbose = VERBOSE )\n",
        "\n",
        "        XGB_preds = XGB_model.predict_proba(X_val)\n",
        "        XGB_score = metrics.roc_auc_score(y_val, XGB_preds[:,1])\n",
        "        XGB_class = XGB_model.predict(X_val)\n",
        "\n",
        "        XGB_test = XGB_model.predict_proba(disease_test)\n",
        "        XGB_test_score = metrics.roc_auc_score(disease_y_test, XGB_test[:,1])\n",
        "        XGB_test_class = XGB_model.predict(disease_test)\n",
        "\n",
        "        full_test_preds = XGB_model.predict_proba(full_test)\n",
        "        full_test_score = metrics.roc_auc_score(full_y_test, full_test_preds[:,1])\n",
        "        full_test_class = XGB_model.predict(full_test)\n",
        "\n",
        "        f1s = f1_score(y_val, XGB_class)\n",
        "        recall = metrics.recall_score(y_val, XGB_class)\n",
        "        precision_score = metrics.precision_score(y_val, XGB_class)\n",
        "\n",
        "        f1_test = f1_score(disease_y_test, XGB_test_class)\n",
        "        recall_test = metrics.recall_score(disease_y_test, XGB_test_class)\n",
        "        precision_score_test = metrics.precision_score(disease_y_test, XGB_test_class)\n",
        "\n",
        "        f1_full_test = f1_score(full_y_test, full_test_class)\n",
        "        recall_full_test = metrics.recall_score(full_y_test, full_test_class)\n",
        "        precision_full_test = metrics.precision_score(full_y_test, full_test_class)\n",
        "\n",
        "\n",
        "        preds += XGB_test[:,1] / FOLDS\n",
        "        full_preds += full_test_preds[:,1] / FOLDS\n",
        "\n",
        "        fold_score = [XGB_score,f1s,recall,precision_score, XGB_test_score,f1_test,recall_test,precision_score_test]\n",
        "        oof_scores.append({fold : fold_score})\n",
        "\n",
        "    avg_test_score = metrics.roc_auc_score(disease_y_test, preds)\n",
        "    avg_class = np.where(preds < 0.5, 0, 1)\n",
        "    avg_f1_test = f1_score(disease_y_test, avg_class)\n",
        "    avg_recall_test = metrics.recall_score(disease_y_test, avg_class)\n",
        "    avg_precision_score_test = metrics.precision_score(disease_y_test, avg_class)\n",
        "\n",
        "    avg_full_test_score = metrics.roc_auc_score(full_y_test, full_preds)\n",
        "    avg_class_full = np.where(full_preds < 0.5, 0, 1)\n",
        "    avg_f1_test_full = f1_score(full_y_test, avg_class_full)\n",
        "    avg_recall_full_test = metrics.recall_score(full_y_test, avg_class_full)\n",
        "    avg_precision_full_test = metrics.precision_score(full_y_test, avg_class_full)\n",
        "\n",
        "    print('-' * 80)\n",
        "    print('Averaged over %i folds ROC AUC score for %s: %.4f'%(FOLDS,d,avg_test_score))\n",
        "    print('F1 : %.4f, Recall : %.4f , Precision : %.4f'%(avg_f1_test, avg_recall_test, avg_precision_score_test))\n",
        "    print('Confusion matrix for %s averaged across %i folds '%(d,FOLDS))\n",
        "    print(confusion_matrix(disease_y_test, avg_class))\n",
        "\n",
        "\n",
        "    print('Averaged over %i folds ROC AUC score for %s against full set of other diseases: %.4f'%(FOLDS,d,avg_full_test_score))\n",
        "    print('F1 : %.4f, Recall : %.4f , Precision : %.4f'%(avg_f1_test_full, avg_recall_full_test, avg_precision_full_test))\n",
        "    print('Confusion matrix for %s averaged across %i folds for full set'%(d,FOLDS))\n",
        "    print(confusion_matrix(full_y_test, avg_class_full))\n",
        "\n",
        "    return preds, disease_y_test, full_preds, full_y_test, XGB_model"
      ],
      "metadata": {
        "id": "iWqBtj-u7cI2"
      },
      "execution_count": 13,
      "outputs": []
    },
    {
      "cell_type": "code",
      "source": [
        "d_pred, y_true, full_preds, full_y_test, last_model = disease_prediction(d, species)"
      ],
      "metadata": {
        "colab": {
          "base_uri": "https://localhost:8080/"
        },
        "id": "2VwFWcdJ7cGS",
        "outputId": "e95790cb-2270-42e3-a04e-cf7af99afcef"
      },
      "execution_count": 14,
      "outputs": [
        {
          "output_type": "stream",
          "name": "stdout",
          "text": [
            "--------------------------------------------------------------------------------\n",
            "Disease : t2d\n",
            "--------------------------------------------------------------------------------\n",
            "Averaged over 10 folds ROC AUC score for t2d: 0.8712\n",
            "F1 : 0.5143, Recall : 0.4091 , Precision : 0.6923\n",
            "Confusion matrix for t2d averaged across 10 folds \n",
            "[[38  4]\n",
            " [13  9]]\n",
            "Averaged over 10 folds ROC AUC score for t2d against full set of other diseases: 0.6805\n",
            "F1 : 0.1304, Recall : 0.4091 , Precision : 0.0776\n",
            "Confusion matrix for t2d averaged across 10 folds for full set\n",
            "[[265 107]\n",
            " [ 13   9]]\n"
          ]
        }
      ]
    },
    {
      "cell_type": "code",
      "source": [
        "plt.figure(figsize=(20,10))\n",
        "for f in range(10):\n",
        "    plt.subplot(2, 5, f+1)\n",
        "    plt.hist(pd_disease[species[f]], bins=20)"
      ],
      "metadata": {
        "colab": {
          "base_uri": "https://localhost:8080/",
          "height": 727
        },
        "id": "-VIrrJQN7cDO",
        "outputId": "b045a960-9e6e-4015-e8f0-b2077653e7f2"
      },
      "execution_count": 15,
      "outputs": [
        {
          "output_type": "display_data",
          "data": {
            "text/plain": [
              "<Figure size 2000x1000 with 10 Axes>"
            ],
            "image/png": "[encoded data removed]"
          },
          "metadata": {}
        }
      ]
    },
    {
      "cell_type": "code",
      "source": [
        "plt.hist(pd_disease[species].std(), bins=20)"
      ],
      "metadata": {
        "colab": {
          "base_uri": "https://localhost:8080/",
          "height": 604
        },
        "id": "2ctI8Daa7cAf",
        "outputId": "5fcbbec0-b2e4-404b-b6e3-a20cfa0857b1"
      },
      "execution_count": 16,
      "outputs": [
        {
          "output_type": "execute_result",
          "data": {
            "text/plain": [
              "(array([1.901e+03, 7.900e+01, 5.900e+01, 2.500e+01, 2.400e+01, 8.000e+00,\n",
              "        1.000e+01, 5.000e+00, 2.000e+00, 2.000e+00, 1.000e+00, 0.000e+00,\n",
              "        0.000e+00, 0.000e+00, 4.000e+00, 0.000e+00, 0.000e+00, 2.000e+00,\n",
              "        3.000e+00, 3.000e+00]),\n",
              " array([ 0.        ,  1.07344666,  2.14689331,  3.22033997,  4.29378662,\n",
              "         5.36723328,  6.44067994,  7.51412659,  8.58757325,  9.6610199 ,\n",
              "        10.73446656, 11.80791322, 12.88135987, 13.95480653, 15.02825319,\n",
              "        16.10169984, 17.1751465 , 18.24859315, 19.32203981, 20.39548647,\n",
              "        21.46893312]),\n",
              " <BarContainer object of 20 artists>)"
            ]
          },
          "metadata": {},
          "execution_count": 16
        },
        {
          "output_type": "display_data",
          "data": {
            "text/plain": [
              "<Figure size 640x480 with 1 Axes>"
            ],
            "image/png": "[encoded data removed]"
          },
          "metadata": {}
        }
      ]
    },
    {
      "cell_type": "code",
      "source": [
        "# Select species with abundance whose std is larger than 2\n",
        "new_species = np.array(species)[pd_disease[species].std().values>2]\n",
        "d_pred, y_true, full_preds, full_y_test, last_model = disease_prediction(d, new_species)"
      ],
      "metadata": {
        "colab": {
          "base_uri": "https://localhost:8080/"
        },
        "id": "y5KmWXuw8OAD",
        "outputId": "2324f962-d58e-4357-bdaa-ab31206328d3"
      },
      "execution_count": 17,
      "outputs": [
        {
          "output_type": "stream",
          "name": "stdout",
          "text": [
            "--------------------------------------------------------------------------------\n",
            "Disease : t2d\n",
            "--------------------------------------------------------------------------------\n",
            "Averaged over 10 folds ROC AUC score for t2d: 0.8864\n",
            "F1 : 0.7500, Recall : 0.6818 , Precision : 0.8333\n",
            "Confusion matrix for t2d averaged across 10 folds \n",
            "[[39  3]\n",
            " [ 7 15]]\n",
            "Averaged over 10 folds ROC AUC score for t2d against full set of other diseases: 0.8023\n",
            "F1 : 0.2344, Recall : 0.6818 , Precision : 0.1415\n",
            "Confusion matrix for t2d averaged across 10 folds for full set\n",
            "[[281  91]\n",
            " [  7  15]]\n"
          ]
        }
      ]
    },
    {
      "cell_type": "code",
      "source": [
        "# add other features\n",
        "features = np.hstack([new_species, 'age', 'country', 'gender','birth_year', 'cholesterol', 'fasting_insulin',\n",
        "                      'hypertension', 'sepsis', 'creatinine', 'triglycerides'])\n",
        "# These features have some missing values but xgboost can handle it\n",
        "d_pred, y_true, full_preds, full_y_test, last_model = disease_prediction(d, features)"
      ],
      "metadata": {
        "colab": {
          "base_uri": "https://localhost:8080/"
        },
        "id": "FBGQT3cP8NzO",
        "outputId": "82919ef3-234d-4bb9-fa74-38cc24a076c9"
      },
      "execution_count": 18,
      "outputs": [
        {
          "output_type": "stream",
          "name": "stdout",
          "text": [
            "--------------------------------------------------------------------------------\n",
            "Disease : t2d\n",
            "--------------------------------------------------------------------------------\n",
            "Averaged over 10 folds ROC AUC score for t2d: 0.9470\n",
            "F1 : 0.8372, Recall : 0.8182 , Precision : 0.8571\n",
            "Confusion matrix for t2d averaged across 10 folds \n",
            "[[39  3]\n",
            " [ 4 18]]\n",
            "Averaged over 10 folds ROC AUC score for t2d against full set of other diseases: 0.8280\n",
            "F1 : 0.2466, Recall : 0.8182 , Precision : 0.1452\n",
            "Confusion matrix for t2d averaged across 10 folds for full set\n",
            "[[266 106]\n",
            " [  4  18]]\n"
          ]
        }
      ]
    }
  ]
}